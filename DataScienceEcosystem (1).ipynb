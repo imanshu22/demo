{
  "cells": [
    {
      "cell_type": "markdown",
      "metadata": {
        "collapsed": true,
        "id": "hmi0dQIVUKeq"
      },
      "source": [
        "# Data Science Tools and Ecosystem"
      ]
    },
    {
      "cell_type": "markdown",
      "metadata": {
        "id": "60SmTJWoUKeu"
      },
      "source": [
        "In this notebook, Data Science Tools and Ecosystem are summarized."
      ]
    },
    {
      "cell_type": "markdown",
      "metadata": {
        "id": "b2XhjMBnUKeu"
      },
      "source": [
        "Some of the popular languages that Data Scientists use are:\n",
        "1. Python\n",
        "2. R\n",
        "3. Julia"
      ]
    },
    {
      "cell_type": "markdown",
      "metadata": {
        "id": "mBMUX2MVUKev"
      },
      "source": [
        "Some of the commonly used libraries used by Data Scientists include:\n",
        "1. NumPy\n",
        "2. Pandas\n",
        "3. Matplotlib"
      ]
    },
    {
      "cell_type": "markdown",
      "metadata": {
        "id": "d-9u9QMuUKew"
      },
      "source": [
        "| Data Science Tools     |\n",
        "|------------------------|\n",
        "| Jupyter Notebook       |\n",
        "| RStudio                |\n",
        "| Visual Studio Code     |"
      ]
    },
    {
      "cell_type": "markdown",
      "metadata": {
        "id": "IqeedyRJUKew"
      },
      "source": [
        "### Below are a few examples of evaluating arithmetic expressions in Python."
      ]
    },
    {
      "cell_type": "code",
      "execution_count": null,
      "metadata": {
        "id": "ikqXIyIOUKex",
        "outputId": "28c76835-775a-49e9-ebf7-094863ca151c"
      },
      "outputs": [
        {
          "data": {
            "text/plain": [
              "17"
            ]
          },
          "execution_count": 3,
          "metadata": {},
          "output_type": "execute_result"
        }
      ],
      "source": [
        "# This is a simple arithmetic expression to multiply then add integers.\n",
        "result = (3 * 4) + 5\n",
        "result"
      ]
    },
    {
      "cell_type": "code",
      "execution_count": null,
      "metadata": {
        "id": "fDl8sQE9UKe2",
        "outputId": "e3aa6f7e-ca29-4167-e1f6-ac7ab92e72df"
      },
      "outputs": [
        {
          "data": {
            "text/plain": [
              "3.3333333333333335"
            ]
          },
          "execution_count": 4,
          "metadata": {},
          "output_type": "execute_result"
        }
      ],
      "source": [
        "# This will convert 200 minutes to hours by dividing by 60.\n",
        "minutes = 200\n",
        "hours = minutes / 60\n",
        "hours"
      ]
    },
    {
      "cell_type": "markdown",
      "metadata": {
        "id": "Acw3SCQRUKe3"
      },
      "source": [
        "**Objectives:**\n",
        "- List popular languages for Data Science\n",
        "- List commonly used libraries in Data Science\n",
        "- Introduce basic arithmetic expressions in Python"
      ]
    },
    {
      "cell_type": "markdown",
      "metadata": {
        "id": "WLyJV16qUKe3"
      },
      "source": [
        "## Author\n",
        "Anshuman Mishra"
      ]
    },
    {
      "cell_type": "code",
      "source": [],
      "metadata": {
        "id": "u7cdI6pGUYKQ"
      },
      "execution_count": null,
      "outputs": []
    }
  ],
  "metadata": {
    "kernelspec": {
      "display_name": "Python 3 (ipykernel)",
      "language": "python",
      "name": "python3"
    },
    "language_info": {
      "codemirror_mode": {
        "name": "ipython",
        "version": 3
      },
      "file_extension": ".py",
      "mimetype": "text/x-python",
      "name": "python",
      "nbconvert_exporter": "python",
      "pygments_lexer": "ipython3",
      "version": "3.10.4"
    },
    "colab": {
      "provenance": []
    }
  },
  "nbformat": 4,
  "nbformat_minor": 0
}